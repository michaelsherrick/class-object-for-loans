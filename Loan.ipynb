{
 "cells": [
  {
   "cell_type": "code",
   "execution_count": 1,
   "metadata": {},
   "outputs": [],
   "source": [
    "class loan(object):\n",
    "    def __init__(self, name):\n",
    "        self._name = name\n",
    "        \n",
    "    def who(self):\n",
    "        print(self._name)\n",
    "    \n",
    "    def setPV(self, PV):\n",
    "        self._PV = PV\n",
    "        print(\"Present Value = \", self._PV)\n",
    "        \n",
    "    def setRate(self, ratePct):\n",
    "        self._ratePct = ratePct\n",
    "        print(\"Rate = {:.2f}%\".format(self._ratePct))\n",
    "            \n",
    "    def setMonths(self, months):\n",
    "        self._months = months\n",
    "        print(self._months, \"Months\")\n",
    "        \n",
    "    def computePmt(self):\n",
    "        r = self._ratePct/100/12\n",
    "        self._Pmt = self._PV * (r * (1 + r)**self._months) / ((1 + r)**self._months - 1)\n",
    "        print(\"Payment = ${:.2f}\".format(self._Pmt))\n",
    "        return self._Pmt\n",
    "    \n",
    "    def computeRate(self, Pmt, PV, months, acc):\n",
    "        self._topR = 100\n",
    "        self._botR = 0\n",
    "        self.setPV(PV)\n",
    "        self.setMonths(months)\n",
    "        \n",
    "        while(True):\n",
    "            self._currRate = (self._topR + self._botR) / 2\n",
    "            self.setRate(self._currRate)\n",
    "            self._currPmt = self.computePmt()\n",
    "            if(abs(self._currPmt - Pmt) < 1*10**-acc):\n",
    "                self._currRate = round(self._currRate, acc)\n",
    "                print(\"Rate = {:.2f}%\".format(self._currRate))\n",
    "                return self._currRate\n",
    "            elif(self._currPmt > Pmt):\n",
    "                self._topR = self._currRate\n",
    "            else:\n",
    "                self._botR = self._currRate"
   ]
  },
  {
   "cell_type": "code",
   "execution_count": 2,
   "metadata": {},
   "outputs": [],
   "source": [
    "loan_test = loan(\"Jim\")"
   ]
  },
  {
   "cell_type": "code",
   "execution_count": 3,
   "metadata": {},
   "outputs": [
    {
     "name": "stdout",
     "output_type": "stream",
     "text": [
      "Present Value =  10000\n",
      "Rate = 5.00%\n",
      "48 Months\n",
      "Payment = $230.29\n"
     ]
    },
    {
     "data": {
      "text/plain": [
       "230.29293570646587"
      ]
     },
     "execution_count": 3,
     "metadata": {},
     "output_type": "execute_result"
    }
   ],
   "source": [
    "loan_test.setPV(10000)\n",
    "loan_test.setRate(5)\n",
    "loan_test.setMonths(48)\n",
    "loan_test.computePmt()"
   ]
  },
  {
   "cell_type": "code",
   "execution_count": 4,
   "metadata": {},
   "outputs": [
    {
     "name": "stdout",
     "output_type": "stream",
     "text": [
      "Present Value =  1\n",
      "12 Months\n",
      "Rate = 50.00%\n",
      "Payment = $0.11\n",
      "Rate = 25.00%\n",
      "Payment = $0.10\n",
      "Rate = 37.50%\n",
      "Payment = $0.10\n",
      "Rate = 31.25%\n",
      "Payment = $0.10\n",
      "Rate = 34.38%\n",
      "Payment = $0.10\n",
      "Rate = 35.94%\n",
      "Payment = $0.10\n",
      "Rate = 35.16%\n",
      "Payment = $0.10\n",
      "Rate = 34.77%\n",
      "Payment = $0.10\n",
      "Rate = 34.96%\n",
      "Payment = $0.10\n",
      "Rate = 35.06%\n",
      "Payment = $0.10\n",
      "Rate = 35.11%\n",
      "Payment = $0.10\n",
      "Rate = 35.08%\n",
      "Payment = $0.10\n",
      "Rate = 35.07%\n",
      "Payment = $0.10\n",
      "Rate = 35.08%\n",
      "Payment = $0.10\n",
      "Rate = 35.07%\n",
      "Payment = $0.10\n",
      "Rate = 35.07%\n"
     ]
    },
    {
     "data": {
      "text/plain": [
       "35.073853"
      ]
     },
     "execution_count": 4,
     "metadata": {},
     "output_type": "execute_result"
    }
   ],
   "source": [
    "loan_test.computeRate(Pmt=0.10, PV=1, months=12, acc=6)"
   ]
  },
  {
   "cell_type": "code",
   "execution_count": null,
   "metadata": {},
   "outputs": [],
   "source": []
  }
 ],
 "metadata": {
  "kernelspec": {
   "display_name": "Python 3",
   "language": "python",
   "name": "python3"
  },
  "language_info": {
   "codemirror_mode": {
    "name": "ipython",
    "version": 3
   },
   "file_extension": ".py",
   "mimetype": "text/x-python",
   "name": "python",
   "nbconvert_exporter": "python",
   "pygments_lexer": "ipython3",
   "version": "3.8.3"
  }
 },
 "nbformat": 4,
 "nbformat_minor": 4
}
